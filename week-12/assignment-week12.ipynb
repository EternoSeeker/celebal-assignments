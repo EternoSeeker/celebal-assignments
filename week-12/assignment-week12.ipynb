{
 "cells": [
  {
   "cell_type": "code",
   "execution_count": 1,
   "metadata": {},
   "outputs": [
    {
     "name": "stderr",
     "output_type": "stream",
     "text": [
      "[nltk_data] Downloading package vader_lexicon to C:\\Users\\SHRIHARI\n",
      "[nltk_data]     MAGAR\\AppData\\Roaming\\nltk_data...\n"
     ]
    }
   ],
   "source": [
    "import nltk\n",
    "from nltk.sentiment import SentimentIntensityAnalyzer\n",
    "import pandas as pd\n",
    "\n",
    "# Download necessary NLTK data\n",
    "nltk.download('vader_lexicon')\n",
    "\n",
    "# Initialize the NLTK sentiment analyzer\n",
    "sia = SentimentIntensityAnalyzer()"
   ]
  },
  {
   "cell_type": "code",
   "execution_count": 2,
   "metadata": {},
   "outputs": [],
   "source": [
    "def analyze_sentiment(text):\n",
    "    sentiment_scores = sia.polarity_scores(text)\n",
    "    compound_score = sentiment_scores['compound']\n",
    "    \n",
    "    if compound_score >= 0.05:\n",
    "        return 'Positive'\n",
    "    elif compound_score <= -0.05:\n",
    "        return 'Negative'\n",
    "    else:\n",
    "        return 'Neutral'"
   ]
  },
  {
   "cell_type": "code",
   "execution_count": 3,
   "metadata": {},
   "outputs": [],
   "source": [
    "movie_reviews = [\n",
    "    \"This movie was fantastic! The plot was engaging and the acting was superb.\",\n",
    "    \"I was disappointed by this film. The story was confusing and the characters were poorly developed.\",\n",
    "    \"An average movie. Nothing special, but not terrible either.\",\n",
    "    \"The special effects were amazing, but the dialogue was cringe-worthy.\",\n",
    "    \"I couldn't stop laughing throughout the entire movie. Hilarious!\"\n",
    "]"
   ]
  },
  {
   "cell_type": "code",
   "execution_count": 4,
   "metadata": {},
   "outputs": [],
   "source": [
    "results = []\n",
    "for review in movie_reviews:\n",
    "    sentiment = analyze_sentiment(review)\n",
    "    score = sia.polarity_scores(review)['compound']\n",
    "    results.append({'Review': review, 'Sentiment': sentiment, 'Score': score})\n",
    "\n",
    "df = pd.DataFrame(results)"
   ]
  },
  {
   "cell_type": "code",
   "execution_count": 5,
   "metadata": {},
   "outputs": [
    {
     "name": "stdout",
     "output_type": "stream",
     "text": [
      "                                              Review Sentiment   Score\n",
      "0  This movie was fantastic! The plot was engagin...  Positive  0.8858\n",
      "1  I was disappointed by this film. The story was...  Negative -0.6124\n",
      "2  An average movie. Nothing special, but not ter...  Positive  0.4023\n",
      "3  The special effects were amazing, but the dial...  Positive  0.5023\n",
      "4  I couldn't stop laughing throughout the entire...  Positive  0.3076\n",
      "\n",
      "Overall Sentiment Distribution:\n",
      "Sentiment\n",
      "Positive    4\n",
      "Negative    1\n",
      "Name: count, dtype: int64\n",
      "\n",
      "Average Sentiment Score: 0.29711999999999994\n"
     ]
    }
   ],
   "source": [
    "print(df)\n",
    "\n",
    "sentiment_counts = df['Sentiment'].value_counts()\n",
    "print(\"\\nOverall Sentiment Distribution:\")\n",
    "print(sentiment_counts)\n",
    "\n",
    "print(\"\\nAverage Sentiment Score:\", df['Score'].mean())"
   ]
  }
 ],
 "metadata": {
  "kernelspec": {
   "display_name": "Python 3",
   "language": "python",
   "name": "python3"
  },
  "language_info": {
   "codemirror_mode": {
    "name": "ipython",
    "version": 3
   },
   "file_extension": ".py",
   "mimetype": "text/x-python",
   "name": "python",
   "nbconvert_exporter": "python",
   "pygments_lexer": "ipython3",
   "version": "3.11.5"
  }
 },
 "nbformat": 4,
 "nbformat_minor": 2
}
